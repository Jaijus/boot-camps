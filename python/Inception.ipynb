{
 "metadata": {
  "name": "Inception"
 },
 "nbformat": 3,
 "nbformat_minor": 0,
 "worksheets": [
  {
   "cells": [
    {
     "cell_type": "code",
     "collapsed": false,
     "input": [],
     "language": "python",
     "metadata": {},
     "outputs": []
    },
    {
     "cell_type": "markdown",
     "metadata": {
      "slideshow": {
       "slide_type": "slide"
      }
     },
     "source": [
      "How many levels deep, are we?\n",
      "==========\n",
      "<img src=\"http://www.eoinbutler.com/wp-content/uploads/2010/07/spinning-top-inception.png\">\n",
      "\n",
      "This may stretch your mind a little bit in an uncomfortable manner.\n",
      "\n",
      "But we're almost to the end of day 1, and this will help shed light on everything we'll be doing tomorrow."
     ]
    },
    {
     "cell_type": "markdown",
     "metadata": {
      "slideshow": {
       "slide_type": "slide"
      }
     },
     "source": [
      "Level 0\n",
      "=====\n",
      "Today, you've been working in the shell. And you now know that the shell can start up other programs, and we can work with it interactively.\n",
      "\n",
      "    shell\n",
      "        \u251c\u2500\u2500 cd\n",
      "        \u251c\u2500\u2500 grep\n",
      "        \u251c\u2500\u2500 ls\n",
      "        \u251c\u2500\u2500 nano\n",
      "        \u2514\u2500\u2500 pwd\n"
     ]
    },
    {
     "cell_type": "markdown",
     "metadata": {
      "slideshow": {
       "slide_type": "fragment"
      }
     },
     "source": [
      "Level 1\n",
      "========\n",
      "The rest of today, we will be learning about the [Python programming language](http://www.python.org/). So our picture will look like this.\n",
      "\n",
      "    shell\n",
      "        \u2514\u2500\u2500 python"
     ]
    },
    {
     "cell_type": "markdown",
     "metadata": {
      "slideshow": {
       "slide_type": "slide"
      }
     },
     "source": [
      "Level 1\n",
      "========\n",
      "The rest of today, we will be learning about the [Python programming language](http://www.python.org/). So our picture will look like this.\n",
      "\n",
      "    shell\n",
      "        \u2514\u2500\u2500 python"
     ]
    },
    {
     "cell_type": "markdown",
     "metadata": {
      "slideshow": {
       "slide_type": "-"
      }
     },
     "source": [
      "Turns out that there are essential two ways of working with Python. \n",
      "\n",
      "You can execute python programs (`.py` files) by giving python the argument of the script you want to execute\n",
      "\n",
      "    shell\n",
      "        \u2514\u2500\u2500 python my_script.py\n",
      "        \n",
      "Alternatively, you can work with the python interpreter interactively (just as we did in the shell).\n",
      "\n",
      "    shell\n",
      "        \u2514\u2500\u2500 python\n"
     ]
    },
    {
     "cell_type": "markdown",
     "metadata": {
      "slideshow": {
       "slide_type": "fragment"
      }
     },
     "source": [
      "Let's try that now...\n",
      "\n",
      "Task: Hello, World\n",
      "-------------\n",
      "\n",
      "- You first program is just one line long. Type this into a file called `my_first_python_program.py`.\n",
      "\n",
      "        print \"Hello, world\"\n",
      "        \n",
      "- Practicing the first method of running python programs, run `python my_first_python_program.py`\n",
      "\n",
      "- Verify that the output is what we expected\n",
      "\n",
      "- Practicing the second method, in the shell, run `python` (in interactive mode).\n",
      "\n",
      "- Type this into the prompt that is displayed after Python has started up.\n",
      "\n",
      "        print \"Hello, world\"\n",
      "    \n"
     ]
    },
    {
     "cell_type": "markdown",
     "metadata": {
      "slideshow": {
       "slide_type": "fragment"
      }
     },
     "source": [
      "`whereami: command not found`\n",
      "----------------\n",
      "\n",
      "There is **no** `whereami` command to let you know which interpreter you're using.\n",
      "\n",
      "So how do you know if you're in Python or in the Shell, or what?\n",
      "\n",
      "Note the differences in the prompt. \n",
      "\n",
      "In the shell, the prompt usually ends with `$`. Yours might look like this:\n",
      "\n",
      "    username@~/swc$ \n",
      "\n",
      "I modified mine to look like this:\n",
      "\n",
      "    12:44@python(master)$ \n",
      "    \n",
      "In Python, the interactive prompt ends with `>>>`\n",
      "\n",
      "    >>> \n",
      "\n",
      "\n",
      "Goodbye, Python\n",
      "---------------\n",
      "You can type `<CTRL-D>`, `quit()` or `exit()` to leave python and get back in the shell.\n",
      "\n",
      "I prefer `<CTRL-D>`, since it's the quickest.\n",
      "\n",
      "But don't type it too many times, since it is the same shortcut to leave the shell.\n",
      "\n"
     ]
    },
    {
     "cell_type": "markdown",
     "metadata": {
      "slideshow": {
       "slide_type": "fragment"
      }
     },
     "source": [
      "Now you know how to run python programs, and how to invoke python for interactive work.\n",
      "\n",
      "However, the standar python interpreter (what you're using when you see `>>>`) isn't very nice.\n",
      "\n",
      "Hello, Python, my old friend\n",
      "-----------------------------\n",
      "I've come to talk with you again\n",
      "\n",
      "Try running `python` again, and seeing if up arrow works brings in the commands you type last time.\n",
      "\n"
     ]
    },
    {
     "cell_type": "markdown",
     "metadata": {
      "slideshow": {
       "slide_type": "fragment"
      }
     },
     "source": [
      "It doesn't work! :\\\n",
      "\n",
      "<img src=\"http://www.quietspeculation.com/wp-content/uploads/2011/12/Inception-Meme.jpg\">\n",
      "\n",
      "Let's start using IPython - which will solve this for us, and give us lots of other niceties."
     ]
    },
    {
     "cell_type": "markdown",
     "metadata": {
      "slideshow": {
       "slide_type": "slide"
      }
     },
     "source": [
      "Level 2\n",
      "========\n",
      "\n",
      "\n",
      "Task IPython verification\n",
      "----\n",
      "- Startup `ipython`\n",
      "- In IPython, run the `print \"Hello, World\"` command again\n",
      "- exit ipython\n",
      "- startup ipython again\n",
      "- press up arrow to verify that you get your history across ipython inbocations\n"
     ]
    },
    {
     "cell_type": "markdown",
     "metadata": {
      "slideshow": {
       "slide_type": "slide"
      }
     },
     "source": [
      "\n",
      "    shell\n",
      "        \u2514\u2500\u2500 python\n",
      "                \u2514\u2500\u2500 ipython\n",
      "        "
     ]
    }
   ],
   "metadata": {}
  }
 ]
}