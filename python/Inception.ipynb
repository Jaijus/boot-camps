{
 "metadata": {
  "name": "Inception"
 },
 "nbformat": 3,
 "nbformat_minor": 0,
 "worksheets": [
  {
   "cells": [
    {
     "cell_type": "code",
     "collapsed": false,
     "input": [],
     "language": "python",
     "metadata": {},
     "outputs": []
    },
    {
     "cell_type": "markdown",
     "metadata": {
      "slideshow": {
       "slide_type": "slide"
      }
     },
     "source": [
      "How many levels deep, are we?\n",
      "==========\n",
      "<img src=\"http://www.eoinbutler.com/wp-content/uploads/2010/07/spinning-top-inception.png\">\n",
      "\n",
      "This may stretch your mind a little bit in an uncomfortable manner.\n",
      "\n",
      "But we're almost to the end of day 1, and this will help shed light on everything we'll be doing tomorrow."
     ]
    },
    {
     "cell_type": "markdown",
     "metadata": {
      "slideshow": {
       "slide_type": "slide"
      }
     },
     "source": [
      "Level 0: The Shell\n",
      "=====\n",
      "Today, you've been working in the shell. And you now know that the shell can start up other programs, and we can work with it interactively.\n",
      "\n",
      "    shell\n",
      "        \u251c\u2500\u2500 cd\n",
      "        \u251c\u2500\u2500 grep\n",
      "        \u251c\u2500\u2500 ls\n",
      "        \u251c\u2500\u2500 nano\n",
      "        \u2514\u2500\u2500 pwd\n"
     ]
    },
    {
     "cell_type": "markdown",
     "metadata": {
      "slideshow": {
       "slide_type": "fragment"
      }
     },
     "source": [
      "Level 1: Python\n",
      "========\n",
      "The rest of today, we will be learning about the [Python programming language](http://www.python.org/). So our picture will look like this.\n",
      "\n",
      "    shell\n",
      "        \u2514\u2500\u2500 python"
     ]
    },
    {
     "cell_type": "markdown",
     "metadata": {
      "slideshow": {
       "slide_type": "slide"
      }
     },
     "source": [
      "Level 1: Python\n",
      "========\n",
      "The rest of today, we will be learning about the [Python programming language](http://www.python.org/). So our picture will look like this.\n",
      "\n",
      "    shell\n",
      "        \u2514\u2500\u2500 python"
     ]
    },
    {
     "cell_type": "markdown",
     "metadata": {
      "slideshow": {
       "slide_type": "-"
      }
     },
     "source": [
      "Turns out that there are essential two ways of working with Python. \n",
      "\n",
      "You can execute python programs (`.py` files) by giving python the argument of the script you want to execute\n",
      "\n",
      "    shell\n",
      "        \u2514\u2500\u2500 python my_script.py\n",
      "        \n",
      "Alternatively, you can work with the python interpreter interactively (just as we did in the shell).\n",
      "\n",
      "    shell\n",
      "        \u2514\u2500\u2500 python\n"
     ]
    },
    {
     "cell_type": "markdown",
     "metadata": {
      "slideshow": {
       "slide_type": "fragment"
      }
     },
     "source": [
      "Let's try that now...\n",
      "\n",
      "Task: Hello, World\n",
      "-------------\n",
      "\n",
      "- You first program is just one line long. Type this into a file called `my_first_python_program.py`.\n",
      "\n",
      "        print \"Hello, world\"\n",
      "        \n",
      "- Practicing the first method of running python programs, run `python my_first_python_program.py`\n",
      "\n",
      "- Verify that the output is what we expected\n",
      "\n",
      "- Practicing the second method, in the shell, run `python` (in interactive mode).\n",
      "\n",
      "- Type this into the prompt that is displayed after Python has started up.\n",
      "\n",
      "        print \"Hello, world\"\n",
      "    \n"
     ]
    },
    {
     "cell_type": "markdown",
     "metadata": {
      "slideshow": {
       "slide_type": "fragment"
      }
     },
     "source": [
      "`whereami: command not found`\n",
      "----------------\n",
      "\n",
      "There is **no** `whereami` command to let you know which interpreter you're using.\n",
      "\n",
      "So how do you know if you're in Python or in the Shell, or what?\n",
      "\n",
      "Note the differences in the prompt. \n",
      "\n",
      "In the shell, the prompt usually ends with `$`. Yours might look like this:\n",
      "\n",
      "    username@~/swc$ \n",
      "\n",
      "I modified mine to look like this:\n",
      "\n",
      "    12:44@python(master)$ \n",
      "    \n",
      "In Python, the interactive prompt ends with `>>>`\n",
      "\n",
      "    >>> \n",
      "\n",
      "\n",
      "Goodbye, Python\n",
      "---------------\n",
      "You can type `<CTRL-D>`, `quit()` or `exit()` to leave python and get back in the shell.\n",
      "\n",
      "I prefer `<CTRL-D>`, since it's the quickest.\n",
      "\n",
      "But don't type it too many times, since it is the same shortcut to leave the shell.\n",
      "\n"
     ]
    },
    {
     "cell_type": "markdown",
     "metadata": {
      "slideshow": {
       "slide_type": "fragment"
      }
     },
     "source": [
      "Now you know how to run python programs, and how to invoke python for interactive work.\n",
      "\n",
      "However, the standar python interpreter (what you're using when you see `>>>`) isn't very nice.\n",
      "\n",
      "Task: Hello, Python, my old friend\n",
      "-----------------------------\n",
      "I've come to talk with you again\n",
      "\n",
      "Try running `python` again, and seeing if up arrow works brings in the commands you type last time.\n",
      "\n"
     ]
    },
    {
     "cell_type": "markdown",
     "metadata": {
      "slideshow": {
       "slide_type": "fragment"
      }
     },
     "source": [
      "It doesn't work! :\\\n",
      "\n",
      "<img src=\"http://www.quietspeculation.com/wp-content/uploads/2011/12/Inception-Meme.jpg\">\n",
      "\n",
      "Let's start using IPython - which will solve this for us, and give us lots of other niceties."
     ]
    },
    {
     "cell_type": "markdown",
     "metadata": {
      "slideshow": {
       "slide_type": "slide"
      }
     },
     "source": [
      "Level 2: IPython\n",
      "========\n",
      "\n",
      "\n",
      "Task: IPython verification\n",
      "----\n",
      "- Startup `ipython`\n",
      "- In IPython, run the `print \"Hello, World\"` command again\n",
      "- exit `ipython` ( `<Ctrl-D>` still works here )\n",
      "- startup `ipython` again\n",
      "- press up arrow to verify that you get your history across ipython invocations\n"
     ]
    },
    {
     "cell_type": "markdown",
     "metadata": {
      "slideshow": {
       "slide_type": "fragment"
      }
     },
     "source": [
      "What's really going on, is that IPython is a python program, but one that still allows us to work interactively.\n",
      "\n",
      "Conceptually, the state of affairs is as follows:\n",
      "\n",
      "    shell\n",
      "        \u2514\u2500\u2500 python\n",
      "                \u2514\u2500\u2500 ipython\n",
      "        "
     ]
    },
    {
     "cell_type": "markdown",
     "metadata": {
      "slideshow": {
       "slide_type": "fragment"
      }
     },
     "source": [
      "There's another notebook (called `ipython-tutor`) that covers all of the niceties that IPython gets us, which are absent from plain old `python`. \n",
      "\n",
      "Let's take a look at what those are later. For now...\n",
      "<img src=\"http://www.quietspeculation.com/wp-content/uploads/2011/12/Inception-Meme.jpg\">\n",
      "\n"
     ]
    },
    {
     "cell_type": "markdown",
     "metadata": {
      "slideshow": {
       "slide_type": "slide"
      }
     },
     "source": [
      "Level 3: IPython notebook\n",
      "========\n",
      "\n",
      "If we cross our fingers and click our heels twice, when you run `ipython notebook` at the shell, it should launch a web browser to brings up a dashboard. \n",
      "\n",
      "We will be doing most of our work in the IPython Notebook for the rest of the bootcamp.\n",
      "\n",
      "(This presentation is a notebook).\n",
      "\n",
      "The state of affairs is now:\n",
      "\n",
      "    shell\n",
      "        \u2514\u2500\u2500 python\n",
      "                \u2514\u2500\u2500 ipython\n",
      "                        \u2514\u2500\u2500 notebook"
     ]
    },
    {
     "cell_type": "markdown",
     "metadata": {},
     "source": [
      "Let's pause here and work with a bit of Python. Switching to the `python` notebook. We'll learn about how to use the notebook as we go."
     ]
    },
    {
     "cell_type": "markdown",
     "metadata": {
      "slideshow": {
       "slide_type": "slide"
      }
     },
     "source": [
      "You saw this coming, but...\n",
      "=========\n",
      "<img src=\"http://www.quietspeculation.com/wp-content/uploads/2011/12/Inception-Meme.jpg\">"
     ]
    },
    {
     "cell_type": "markdown",
     "metadata": {},
     "source": [
      "Turns out, that, now that we have alittle bit of Python under our belts, we can explore what IPython has.\n",
      "\n",
      "In particular, using the `!` at the beginning of a line, we can escape into the shell, and run shell commands from IPython. \n",
      "\n",
      "For those following along, that means that we can go to \n",
      "\n",
      "Level 4: Calling shell commands from IPython\n",
      "==========\n",
      "\n",
      "    shell\n",
      "        \u2514\u2500\u2500 python\n",
      "                \u2514\u2500\u2500 ipython\n",
      "                        \u2514\u2500\u2500 notebook\n",
      "                                \u2514\u2500\u2500 shell\n",
      "\n",
      "Let's switch over to `ipython-tutor` notebook now."
     ]
    },
    {
     "cell_type": "code",
     "collapsed": false,
     "input": [],
     "language": "python",
     "metadata": {},
     "outputs": []
    }
   ],
   "metadata": {}
  }
 ]
}